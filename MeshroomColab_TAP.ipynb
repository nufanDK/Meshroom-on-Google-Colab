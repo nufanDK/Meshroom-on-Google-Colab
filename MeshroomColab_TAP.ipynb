{
  "cells": [
    {
      "cell_type": "markdown",
      "metadata": {
        "id": "TZh8CZsjwfD1"
      },
      "source": [
        "\n",
        "**Meshroom for GoogleColab - Edited by Thomas Anthony Pedersen**\n",
        "\n",
        "2023-02-07\n"
      ]
    },
    {
      "cell_type": "markdown",
      "source": [
        "**0.0 - CREATE WORKING DIRECTORIES**"
      ],
      "metadata": {
        "id": "KbPFz0Xp2mHW"
      }
    },
    {
      "cell_type": "code",
      "execution_count": null,
      "metadata": {
        "id": "HIsZd9i70xVT"
      },
      "outputs": [],
      "source": [
        "!mkdir /content/input\n",
        "!mkdir /content/meshroom\n",
        "!mkdir /content/meshroomTMP"
      ]
    },
    {
      "cell_type": "markdown",
      "source": [
        "\n",
        "\n",
        "> Now upload any zip files containing temp-files of previous steps computed.\n",
        "Unzip in the next step\n",
        "\n"
      ],
      "metadata": {
        "id": "2zL3WWXw2sv7"
      }
    },
    {
      "cell_type": "code",
      "source": [
        "from google.colab import files\n",
        "\n",
        "!unzip \n",
        "!unzip -o '/content/outCache*.zip' -d /\n"
      ],
      "metadata": {
        "colab": {
          "base_uri": "https://localhost:8080/"
        },
        "id": "_ThLXBp722BN",
        "outputId": "c07a0eba-89f1-4546-83bf-c114fdfa64b1"
      },
      "execution_count": null,
      "outputs": [
        {
          "output_type": "stream",
          "name": "stdout",
          "text": [
            "Archive:  /content/outCacheSFM.zip\n",
            "  inflating: /content/meshroomTMP/StructureFromMotion/136c3f31b575fbd65037174e93406d2c683d14e3/stats.json  \n",
            "  inflating: /content/meshroomTMP/StructureFromMotion/136c3f31b575fbd65037174e93406d2c683d14e3/cameras.sfm  \n",
            "  inflating: /content/meshroomTMP/StructureFromMotion/136c3f31b575fbd65037174e93406d2c683d14e3/statistics  \n",
            "  inflating: /content/meshroomTMP/StructureFromMotion/136c3f31b575fbd65037174e93406d2c683d14e3/bundle_adjustment.csv  \n",
            "  inflating: /content/meshroomTMP/StructureFromMotion/136c3f31b575fbd65037174e93406d2c683d14e3/cloud_and_poses.ply  \n",
            "  inflating: /content/meshroomTMP/StructureFromMotion/136c3f31b575fbd65037174e93406d2c683d14e3/intermediate_steps/sfm_00000003.ply  \n",
            "  inflating: /content/meshroomTMP/StructureFromMotion/136c3f31b575fbd65037174e93406d2c683d14e3/intermediate_steps/sfm_00000006.ply  \n",
            "  inflating: /content/meshroomTMP/StructureFromMotion/136c3f31b575fbd65037174e93406d2c683d14e3/intermediate_steps/sfm_00000000.ply  \n",
            "  inflating: /content/meshroomTMP/StructureFromMotion/136c3f31b575fbd65037174e93406d2c683d14e3/log  \n",
            "  inflating: /content/meshroomTMP/StructureFromMotion/136c3f31b575fbd65037174e93406d2c683d14e3/residuals_histogram.svg  \n",
            "  inflating: /content/meshroomTMP/StructureFromMotion/136c3f31b575fbd65037174e93406d2c683d14e3/sfm_report.html  \n",
            "  inflating: /content/meshroomTMP/StructureFromMotion/136c3f31b575fbd65037174e93406d2c683d14e3/sfm_log.html  \n",
            "  inflating: /content/meshroomTMP/StructureFromMotion/136c3f31b575fbd65037174e93406d2c683d14e3/status  \n",
            "  inflating: /content/meshroomTMP/StructureFromMotion/136c3f31b575fbd65037174e93406d2c683d14e3/intrinsics_history.csv  \n",
            "  inflating: /content/meshroomTMP/StructureFromMotion/136c3f31b575fbd65037174e93406d2c683d14e3/sfm.abc  \n",
            "\n",
            "Archive:  /content/outCacheFeatureExtraction.zip\n",
            "  inflating: /content/meshroomTMP/FeatureExtraction/05e31277b63d7fa7d5a5e576a11aa33365db1b21/326098072.sift.desc  \n",
            "  inflating: /content/meshroomTMP/FeatureExtraction/05e31277b63d7fa7d5a5e576a11aa33365db1b21/1567242022.sift.feat  \n",
            "  inflating: /content/meshroomTMP/FeatureExtraction/05e31277b63d7fa7d5a5e576a11aa33365db1b21/80244268.sift.feat  \n",
            "  inflating: /content/meshroomTMP/FeatureExtraction/05e31277b63d7fa7d5a5e576a11aa33365db1b21/0.log  \n",
            "  inflating: /content/meshroomTMP/FeatureExtraction/05e31277b63d7fa7d5a5e576a11aa33365db1b21/326098072.sift.feat  \n",
            "  inflating: /content/meshroomTMP/FeatureExtraction/05e31277b63d7fa7d5a5e576a11aa33365db1b21/845238032.sift.desc  \n",
            "  inflating: /content/meshroomTMP/FeatureExtraction/05e31277b63d7fa7d5a5e576a11aa33365db1b21/1100696694.sift.feat  \n",
            "  inflating: /content/meshroomTMP/FeatureExtraction/05e31277b63d7fa7d5a5e576a11aa33365db1b21/1567242022.sift.desc  \n",
            "  inflating: /content/meshroomTMP/FeatureExtraction/05e31277b63d7fa7d5a5e576a11aa33365db1b21/0.status  \n",
            "  inflating: /content/meshroomTMP/FeatureExtraction/05e31277b63d7fa7d5a5e576a11aa33365db1b21/1967770794.sift.feat  \n",
            "  inflating: /content/meshroomTMP/FeatureExtraction/05e31277b63d7fa7d5a5e576a11aa33365db1b21/845238032.sift.feat  \n",
            "  inflating: /content/meshroomTMP/FeatureExtraction/05e31277b63d7fa7d5a5e576a11aa33365db1b21/1271481560.sift.desc  \n",
            "  inflating: /content/meshroomTMP/FeatureExtraction/05e31277b63d7fa7d5a5e576a11aa33365db1b21/1707849816.sift.feat  \n",
            "  inflating: /content/meshroomTMP/FeatureExtraction/05e31277b63d7fa7d5a5e576a11aa33365db1b21/1271481560.sift.feat  \n",
            "  inflating: /content/meshroomTMP/FeatureExtraction/05e31277b63d7fa7d5a5e576a11aa33365db1b21/1707849816.sift.desc  \n",
            "  inflating: /content/meshroomTMP/FeatureExtraction/05e31277b63d7fa7d5a5e576a11aa33365db1b21/1967770794.sift.desc  \n",
            "  inflating: /content/meshroomTMP/FeatureExtraction/05e31277b63d7fa7d5a5e576a11aa33365db1b21/80244268.sift.desc  \n",
            "  inflating: /content/meshroomTMP/FeatureExtraction/05e31277b63d7fa7d5a5e576a11aa33365db1b21/227482968.sift.desc  \n",
            "  inflating: /content/meshroomTMP/FeatureExtraction/05e31277b63d7fa7d5a5e576a11aa33365db1b21/1100696694.sift.desc  \n",
            "  inflating: /content/meshroomTMP/FeatureExtraction/05e31277b63d7fa7d5a5e576a11aa33365db1b21/0.statistics  \n",
            "  inflating: /content/meshroomTMP/FeatureExtraction/05e31277b63d7fa7d5a5e576a11aa33365db1b21/227482968.sift.feat  \n",
            "\n",
            "Archive:  /content/outCacheImageMatching.zip\n",
            "  inflating: /content/meshroomTMP/ImageMatching/c291c6766eedb77a1d0d3c9207cacaba6145264e/statistics  \n",
            "  inflating: /content/meshroomTMP/ImageMatching/c291c6766eedb77a1d0d3c9207cacaba6145264e/log  \n",
            "  inflating: /content/meshroomTMP/ImageMatching/c291c6766eedb77a1d0d3c9207cacaba6145264e/status  \n",
            "  inflating: /content/meshroomTMP/ImageMatching/c291c6766eedb77a1d0d3c9207cacaba6145264e/imageMatches.txt  \n",
            "\n",
            "Archive:  /content/outCacheCameraInit.zip\n",
            "  inflating: /content/meshroomTMP/CameraInit/202e33889fd058b5b12c4aeb5c2e7cd166560eb7/statistics  \n",
            "  inflating: /content/meshroomTMP/CameraInit/202e33889fd058b5b12c4aeb5c2e7cd166560eb7/log  \n",
            "  inflating: /content/meshroomTMP/CameraInit/202e33889fd058b5b12c4aeb5c2e7cd166560eb7/cameraInit.sfm  \n",
            "  inflating: /content/meshroomTMP/CameraInit/202e33889fd058b5b12c4aeb5c2e7cd166560eb7/status  \n",
            "  inflating: /content/meshroomTMP/CameraInit/202e33889fd058b5b12c4aeb5c2e7cd166560eb7/viewpoints.sfm  \n",
            "\n",
            "Archive:  /content/outCacheTexturing.zip\n",
            "  inflating: /content/meshroomTMP/Texturing/9bf0b79087cf381c1cbcd016c9c0867c004bb2f4/statistics  \n",
            "  inflating: /content/meshroomTMP/Texturing/9bf0b79087cf381c1cbcd016c9c0867c004bb2f4/log  \n",
            "  inflating: /content/meshroomTMP/Texturing/9bf0b79087cf381c1cbcd016c9c0867c004bb2f4/status  \n",
            "  inflating: /content/meshroomTMP/Texturing/9bf0b79087cf381c1cbcd016c9c0867c004bb2f4/texturedMesh.obj  \n",
            "  inflating: /content/meshroomTMP/Texturing/9bf0b79087cf381c1cbcd016c9c0867c004bb2f4/texturedMesh.mtl  \n",
            "  inflating: /content/meshroomTMP/Texturing/9bf0b79087cf381c1cbcd016c9c0867c004bb2f4/texture_1001.png  \n",
            "\n",
            "Archive:  /content/outCacheDepthMapFilter.zip\n",
            "  inflating: /content/meshroomTMP/DepthMapFilter/ef3081bc611200b726a34116617000cf2e987527/1567242022_nmodMap.png  \n",
            "  inflating: /content/meshroomTMP/DepthMapFilter/ef3081bc611200b726a34116617000cf2e987527/227482968_nmodMap.png  \n",
            "  inflating: /content/meshroomTMP/DepthMapFilter/ef3081bc611200b726a34116617000cf2e987527/845238032_nmodMap.png  \n",
            "  inflating: /content/meshroomTMP/DepthMapFilter/ef3081bc611200b726a34116617000cf2e987527/1100696694_depthMap.exr  \n",
            "  inflating: /content/meshroomTMP/DepthMapFilter/ef3081bc611200b726a34116617000cf2e987527/0.log  \n",
            "  inflating: /content/meshroomTMP/DepthMapFilter/ef3081bc611200b726a34116617000cf2e987527/1271481560_nmodMap.png  \n",
            "  inflating: /content/meshroomTMP/DepthMapFilter/ef3081bc611200b726a34116617000cf2e987527/1567242022_simMap.exr  \n",
            "  inflating: /content/meshroomTMP/DepthMapFilter/ef3081bc611200b726a34116617000cf2e987527/845238032_simMap.exr  \n",
            "  inflating: /content/meshroomTMP/DepthMapFilter/ef3081bc611200b726a34116617000cf2e987527/845238032_depthMap.exr  \n",
            "  inflating: /content/meshroomTMP/DepthMapFilter/ef3081bc611200b726a34116617000cf2e987527/1707849816_nmodMap.png  \n",
            "  inflating: /content/meshroomTMP/DepthMapFilter/ef3081bc611200b726a34116617000cf2e987527/326098072_simMap.exr  \n",
            "  inflating: /content/meshroomTMP/DepthMapFilter/ef3081bc611200b726a34116617000cf2e987527/1707849816_simMap.exr  \n",
            "  inflating: /content/meshroomTMP/DepthMapFilter/ef3081bc611200b726a34116617000cf2e987527/80244268_simMap.exr  \n",
            "  inflating: /content/meshroomTMP/DepthMapFilter/ef3081bc611200b726a34116617000cf2e987527/0.status  \n",
            "  inflating: /content/meshroomTMP/DepthMapFilter/ef3081bc611200b726a34116617000cf2e987527/1271481560_simMap.exr  \n",
            "  inflating: /content/meshroomTMP/DepthMapFilter/ef3081bc611200b726a34116617000cf2e987527/1567242022_depthMap.exr  \n",
            "  inflating: /content/meshroomTMP/DepthMapFilter/ef3081bc611200b726a34116617000cf2e987527/326098072_nmodMap.png  \n",
            "  inflating: /content/meshroomTMP/DepthMapFilter/ef3081bc611200b726a34116617000cf2e987527/1967770794_depthMap.exr  \n",
            "  inflating: /content/meshroomTMP/DepthMapFilter/ef3081bc611200b726a34116617000cf2e987527/1100696694_simMap.exr  \n",
            "  inflating: /content/meshroomTMP/DepthMapFilter/ef3081bc611200b726a34116617000cf2e987527/326098072_depthMap.exr  \n",
            "  inflating: /content/meshroomTMP/DepthMapFilter/ef3081bc611200b726a34116617000cf2e987527/227482968_depthMap.exr  \n",
            "  inflating: /content/meshroomTMP/DepthMapFilter/ef3081bc611200b726a34116617000cf2e987527/80244268_depthMap.exr  \n",
            "  inflating: /content/meshroomTMP/DepthMapFilter/ef3081bc611200b726a34116617000cf2e987527/1967770794_nmodMap.png  \n",
            "  inflating: /content/meshroomTMP/DepthMapFilter/ef3081bc611200b726a34116617000cf2e987527/1707849816_depthMap.exr  \n",
            "  inflating: /content/meshroomTMP/DepthMapFilter/ef3081bc611200b726a34116617000cf2e987527/227482968_simMap.exr  \n",
            "  inflating: /content/meshroomTMP/DepthMapFilter/ef3081bc611200b726a34116617000cf2e987527/1967770794_simMap.exr  \n",
            "  inflating: /content/meshroomTMP/DepthMapFilter/ef3081bc611200b726a34116617000cf2e987527/1271481560_depthMap.exr  \n",
            "  inflating: /content/meshroomTMP/DepthMapFilter/ef3081bc611200b726a34116617000cf2e987527/0.statistics  \n",
            "  inflating: /content/meshroomTMP/DepthMapFilter/ef3081bc611200b726a34116617000cf2e987527/1100696694_nmodMap.png  \n",
            "  inflating: /content/meshroomTMP/DepthMapFilter/ef3081bc611200b726a34116617000cf2e987527/80244268_nmodMap.png  \n",
            "\n",
            "Archive:  /content/outCacheFeatureMatching.zip\n",
            "  inflating: /content/meshroomTMP/FeatureMatching/6f01d831051ccae5d3f7d5680bc2c8aa5e5f6cc1/0.log  \n",
            "  inflating: /content/meshroomTMP/FeatureMatching/6f01d831051ccae5d3f7d5680bc2c8aa5e5f6cc1/0.status  \n",
            "  inflating: /content/meshroomTMP/FeatureMatching/6f01d831051ccae5d3f7d5680bc2c8aa5e5f6cc1/0.matches.txt  \n",
            "  inflating: /content/meshroomTMP/FeatureMatching/6f01d831051ccae5d3f7d5680bc2c8aa5e5f6cc1/0.statistics  \n",
            "\n",
            "Archive:  /content/outCacheMeshing.zip\n",
            "  inflating: /content/meshroomTMP/Meshing/da0cd7d0520371e3b02653c06063524c4f7d0083/statistics  \n",
            "  inflating: /content/meshroomTMP/Meshing/da0cd7d0520371e3b02653c06063524c4f7d0083/log  \n",
            "  inflating: /content/meshroomTMP/Meshing/da0cd7d0520371e3b02653c06063524c4f7d0083/densePointCloud.abc  \n",
            "  inflating: /content/meshroomTMP/Meshing/da0cd7d0520371e3b02653c06063524c4f7d0083/status  \n",
            "  inflating: /content/meshroomTMP/Meshing/da0cd7d0520371e3b02653c06063524c4f7d0083/mesh.obj  \n",
            "\n",
            "Archive:  /content/outCacheDepthMap.zip\n",
            "  inflating: /content/meshroomTMP/DepthMap/a4cac1b645a8e5025da008085b69fbb06d5d8f00/1.statistics  \n",
            "  inflating: /content/meshroomTMP/DepthMap/a4cac1b645a8e5025da008085b69fbb06d5d8f00/1100696694_depthMap.exr  \n",
            "  inflating: /content/meshroomTMP/DepthMap/a4cac1b645a8e5025da008085b69fbb06d5d8f00/0.log  \n",
            "  inflating: /content/meshroomTMP/DepthMap/a4cac1b645a8e5025da008085b69fbb06d5d8f00/2.statistics  \n",
            "  inflating: /content/meshroomTMP/DepthMap/a4cac1b645a8e5025da008085b69fbb06d5d8f00/1567242022_simMap.exr  \n",
            "  inflating: /content/meshroomTMP/DepthMap/a4cac1b645a8e5025da008085b69fbb06d5d8f00/845238032_simMap.exr  \n",
            "  inflating: /content/meshroomTMP/DepthMap/a4cac1b645a8e5025da008085b69fbb06d5d8f00/845238032_depthMap.exr  \n",
            "  inflating: /content/meshroomTMP/DepthMap/a4cac1b645a8e5025da008085b69fbb06d5d8f00/326098072_simMap.exr  \n",
            "  inflating: /content/meshroomTMP/DepthMap/a4cac1b645a8e5025da008085b69fbb06d5d8f00/1707849816_simMap.exr  \n",
            "  inflating: /content/meshroomTMP/DepthMap/a4cac1b645a8e5025da008085b69fbb06d5d8f00/80244268_simMap.exr  \n",
            "  inflating: /content/meshroomTMP/DepthMap/a4cac1b645a8e5025da008085b69fbb06d5d8f00/0.status  \n",
            "  inflating: /content/meshroomTMP/DepthMap/a4cac1b645a8e5025da008085b69fbb06d5d8f00/1271481560_simMap.exr  \n",
            "  inflating: /content/meshroomTMP/DepthMap/a4cac1b645a8e5025da008085b69fbb06d5d8f00/2.status  \n",
            "  inflating: /content/meshroomTMP/DepthMap/a4cac1b645a8e5025da008085b69fbb06d5d8f00/1567242022_depthMap.exr  \n",
            "  inflating: /content/meshroomTMP/DepthMap/a4cac1b645a8e5025da008085b69fbb06d5d8f00/1967770794_depthMap.exr  \n",
            "  inflating: /content/meshroomTMP/DepthMap/a4cac1b645a8e5025da008085b69fbb06d5d8f00/1100696694_simMap.exr  \n",
            "  inflating: /content/meshroomTMP/DepthMap/a4cac1b645a8e5025da008085b69fbb06d5d8f00/326098072_depthMap.exr  \n",
            "  inflating: /content/meshroomTMP/DepthMap/a4cac1b645a8e5025da008085b69fbb06d5d8f00/227482968_depthMap.exr  \n",
            "  inflating: /content/meshroomTMP/DepthMap/a4cac1b645a8e5025da008085b69fbb06d5d8f00/1.status  \n",
            "  inflating: /content/meshroomTMP/DepthMap/a4cac1b645a8e5025da008085b69fbb06d5d8f00/80244268_depthMap.exr  \n",
            "  inflating: /content/meshroomTMP/DepthMap/a4cac1b645a8e5025da008085b69fbb06d5d8f00/1.log  \n",
            "  inflating: /content/meshroomTMP/DepthMap/a4cac1b645a8e5025da008085b69fbb06d5d8f00/1707849816_depthMap.exr  \n",
            "  inflating: /content/meshroomTMP/DepthMap/a4cac1b645a8e5025da008085b69fbb06d5d8f00/227482968_simMap.exr  \n",
            "  inflating: /content/meshroomTMP/DepthMap/a4cac1b645a8e5025da008085b69fbb06d5d8f00/2.log  \n",
            "  inflating: /content/meshroomTMP/DepthMap/a4cac1b645a8e5025da008085b69fbb06d5d8f00/1967770794_simMap.exr  \n",
            "  inflating: /content/meshroomTMP/DepthMap/a4cac1b645a8e5025da008085b69fbb06d5d8f00/1271481560_depthMap.exr  \n",
            "  inflating: /content/meshroomTMP/DepthMap/a4cac1b645a8e5025da008085b69fbb06d5d8f00/0.statistics  \n",
            "  inflating: /content/meshroomTMP/DepthMapFilter/ef3081bc611200b726a34116617000cf2e987527/1567242022_nmodMap.png  \n",
            "  inflating: /content/meshroomTMP/DepthMapFilter/ef3081bc611200b726a34116617000cf2e987527/227482968_nmodMap.png  \n",
            "  inflating: /content/meshroomTMP/DepthMapFilter/ef3081bc611200b726a34116617000cf2e987527/845238032_nmodMap.png  \n",
            "  inflating: /content/meshroomTMP/DepthMapFilter/ef3081bc611200b726a34116617000cf2e987527/1100696694_depthMap.exr  \n",
            "  inflating: /content/meshroomTMP/DepthMapFilter/ef3081bc611200b726a34116617000cf2e987527/0.log  \n",
            "  inflating: /content/meshroomTMP/DepthMapFilter/ef3081bc611200b726a34116617000cf2e987527/1271481560_nmodMap.png  \n",
            "  inflating: /content/meshroomTMP/DepthMapFilter/ef3081bc611200b726a34116617000cf2e987527/1567242022_simMap.exr  \n",
            "  inflating: /content/meshroomTMP/DepthMapFilter/ef3081bc611200b726a34116617000cf2e987527/845238032_simMap.exr  \n",
            "  inflating: /content/meshroomTMP/DepthMapFilter/ef3081bc611200b726a34116617000cf2e987527/845238032_depthMap.exr  \n",
            "  inflating: /content/meshroomTMP/DepthMapFilter/ef3081bc611200b726a34116617000cf2e987527/1707849816_nmodMap.png  \n",
            "  inflating: /content/meshroomTMP/DepthMapFilter/ef3081bc611200b726a34116617000cf2e987527/326098072_simMap.exr  \n",
            "  inflating: /content/meshroomTMP/DepthMapFilter/ef3081bc611200b726a34116617000cf2e987527/1707849816_simMap.exr  \n",
            "  inflating: /content/meshroomTMP/DepthMapFilter/ef3081bc611200b726a34116617000cf2e987527/80244268_simMap.exr  \n",
            "  inflating: /content/meshroomTMP/DepthMapFilter/ef3081bc611200b726a34116617000cf2e987527/0.status  \n",
            "  inflating: /content/meshroomTMP/DepthMapFilter/ef3081bc611200b726a34116617000cf2e987527/1271481560_simMap.exr  \n",
            "  inflating: /content/meshroomTMP/DepthMapFilter/ef3081bc611200b726a34116617000cf2e987527/1567242022_depthMap.exr  \n",
            "  inflating: /content/meshroomTMP/DepthMapFilter/ef3081bc611200b726a34116617000cf2e987527/326098072_nmodMap.png  \n",
            "  inflating: /content/meshroomTMP/DepthMapFilter/ef3081bc611200b726a34116617000cf2e987527/1967770794_depthMap.exr  \n",
            "  inflating: /content/meshroomTMP/DepthMapFilter/ef3081bc611200b726a34116617000cf2e987527/1100696694_simMap.exr  \n",
            "  inflating: /content/meshroomTMP/DepthMapFilter/ef3081bc611200b726a34116617000cf2e987527/326098072_depthMap.exr  \n",
            "  inflating: /content/meshroomTMP/DepthMapFilter/ef3081bc611200b726a34116617000cf2e987527/227482968_depthMap.exr  \n",
            "  inflating: /content/meshroomTMP/DepthMapFilter/ef3081bc611200b726a34116617000cf2e987527/80244268_depthMap.exr  \n",
            "  inflating: /content/meshroomTMP/DepthMapFilter/ef3081bc611200b726a34116617000cf2e987527/1967770794_nmodMap.png  \n",
            "  inflating: /content/meshroomTMP/DepthMapFilter/ef3081bc611200b726a34116617000cf2e987527/1707849816_depthMap.exr  \n",
            "  inflating: /content/meshroomTMP/DepthMapFilter/ef3081bc611200b726a34116617000cf2e987527/227482968_simMap.exr  \n",
            "  inflating: /content/meshroomTMP/DepthMapFilter/ef3081bc611200b726a34116617000cf2e987527/1967770794_simMap.exr  \n",
            "  inflating: /content/meshroomTMP/DepthMapFilter/ef3081bc611200b726a34116617000cf2e987527/1271481560_depthMap.exr  \n",
            "  inflating: /content/meshroomTMP/DepthMapFilter/ef3081bc611200b726a34116617000cf2e987527/0.statistics  \n",
            "  inflating: /content/meshroomTMP/DepthMapFilter/ef3081bc611200b726a34116617000cf2e987527/1100696694_nmodMap.png  \n",
            "  inflating: /content/meshroomTMP/DepthMapFilter/ef3081bc611200b726a34116617000cf2e987527/80244268_nmodMap.png  \n",
            "  inflating: /content/meshroomTMP/Meshing/da0cd7d0520371e3b02653c06063524c4f7d0083/statistics  \n",
            "  inflating: /content/meshroomTMP/Meshing/da0cd7d0520371e3b02653c06063524c4f7d0083/log  \n",
            "  inflating: /content/meshroomTMP/Meshing/da0cd7d0520371e3b02653c06063524c4f7d0083/densePointCloud.abc  \n",
            "  inflating: /content/meshroomTMP/Meshing/da0cd7d0520371e3b02653c06063524c4f7d0083/status  \n",
            "  inflating: /content/meshroomTMP/Meshing/da0cd7d0520371e3b02653c06063524c4f7d0083/mesh.obj  \n",
            "\n",
            "9 archives were successfully processed.\n"
          ]
        }
      ]
    },
    {
      "cell_type": "markdown",
      "metadata": {
        "id": "7kShJYbj6GS6"
      },
      "source": [
        "**1. Download Meshroom 2021.1**"
      ]
    },
    {
      "cell_type": "code",
      "execution_count": null,
      "metadata": {
        "id": "oDLXn_M6R-zz"
      },
      "outputs": [],
      "source": [
        "!wget -N https://github.com/alicevision/Meshroom/releases/download/v2021.1.0/Meshroom-2021.1.0-linux-cuda10.tar.gz\n",
        "!tar -xvf /content/Meshroom-2021.1.0-linux-cuda10.tar.gz -C /content/meshroom"
      ]
    },
    {
      "cell_type": "markdown",
      "source": [
        "-"
      ],
      "metadata": {
        "id": "HckN9-ak-Ue8"
      }
    },
    {
      "cell_type": "markdown",
      "source": [
        "**STEP 2. ACTUAL PROCESSING**"
      ],
      "metadata": {
        "id": "Ltl8zX4t-Vby"
      }
    },
    {
      "cell_type": "markdown",
      "source": [
        "**2.1 - PROCESS - STEP 1 - RUN CAMERAINIT_1 + FEATUREEXTRACTION_1**"
      ],
      "metadata": {
        "id": "CSIhp7LRyEUg"
      }
    },
    {
      "cell_type": "code",
      "source": [
        "!/content/meshroom/Meshroom-2021.1.0-av2.4.0-centos7-cuda10.2/meshroom_batch --toNode FeatureExtraction_1 --input /content/input/ --pipeline /content/standardpipeline.mg --cache /content/meshroomTMP\n",
        "\n",
        "!zip -r outCacheCameraInit.zip /content/meshroomTMP/CameraInit/\n",
        "!zip -r outCacheFeatureExtraction.zip /content/meshroomTMP/FeatureExtraction/\n",
        "\n",
        "files.download('outCacheCameraInit.zip')\n",
        "files.download('outCacheFeatureExtraction.zip')\n"
      ],
      "metadata": {
        "id": "mZXo4AmyyQ4c"
      },
      "execution_count": null,
      "outputs": []
    },
    {
      "cell_type": "markdown",
      "source": [
        "**STEP 2.2 - PROCESS - IMAGE- AND FEATUREMATCHING**"
      ],
      "metadata": {
        "id": "WBK-fqbb430D"
      }
    },
    {
      "cell_type": "code",
      "source": [
        "!/content/meshroom/Meshroom-2021.1.0-av2.4.0-centos7-cuda10.2/meshroom_batch --toNode FeatureMatching_1 --input /content/input/ --pipeline /content/standardpipeline.mg --cache /content/meshroomTMP/\n",
        "\n",
        "!zip -r outCacheImageMatching.zip /content/meshroomTMP/ImageMatching/\n",
        "!zip -r outCacheFeatureMatching.zip /content/meshroomTMP/FeatureMatching/\n",
        "\n",
        "files.download('outCacheImageMatching.zip')\n",
        "files.download('outCacheFeatureMatching.zip')"
      ],
      "metadata": {
        "id": "i3bK4LtxbnmQ"
      },
      "execution_count": null,
      "outputs": []
    },
    {
      "cell_type": "markdown",
      "source": [
        "**STEP 2.3 - PROCESS - STRUCTURE-FROM-MOTION**"
      ],
      "metadata": {
        "id": "mx2VzlRt50Se"
      }
    },
    {
      "cell_type": "code",
      "source": [
        "!/content/meshroom/Meshroom-2021.1.0-av2.4.0-centos7-cuda10.2/meshroom_batch --toNode StructureFromMotion_1 --input /content/input/ --pipeline /content/standardpipeline.mg --cache /content/meshroomTMP/\n",
        "\n",
        "!zip -r outCacheSFM.zip /content/meshroomTMP/StructureFromMotion/\n",
        "\n",
        "files.download('outCacheSFM.zip')"
      ],
      "metadata": {
        "id": "N52cJhQQ5zuG"
      },
      "execution_count": null,
      "outputs": []
    },
    {
      "cell_type": "markdown",
      "source": [
        "**STEP 2.4 - PROCESS - DEPTHMAP**"
      ],
      "metadata": {
        "id": "M6BrIOzK7P-a"
      }
    },
    {
      "cell_type": "code",
      "source": [
        "!/content/meshroom/Meshroom-2021.1.0-av2.4.0-centos7-cuda10.2/meshroom_batch --toNode DepthMap_1 --input /content/input/ --pipeline /content/standardpipeline.mg --cache /content/meshroomTMP/\n",
        "\n",
        "!zip -r outCacheDepthMap.zip /content/meshroomTMP/DepthMap/\n",
        "\n",
        "files.download('outCacheDepthMap.zip')"
      ],
      "metadata": {
        "id": "XqR90iZs7P-b"
      },
      "execution_count": null,
      "outputs": []
    },
    {
      "cell_type": "markdown",
      "source": [
        "**STEP 2.5 - PROCESS - DEPTHMAP FILTER**"
      ],
      "metadata": {
        "id": "MBe2YDt09kHe"
      }
    },
    {
      "cell_type": "code",
      "source": [
        "!zip -r outCacheDepthMapFilter.zip /content/meshroomTMP/DepthMapFilter/\n",
        "\n",
        "files.download('outCacheDepthMapFilter.zip')"
      ],
      "metadata": {
        "colab": {
          "base_uri": "https://localhost:8080/",
          "height": 604
        },
        "id": "yY41fukM_cGR",
        "outputId": "5651ce27-06bd-4ae5-b380-610b5717eac8"
      },
      "execution_count": null,
      "outputs": [
        {
          "output_type": "stream",
          "name": "stdout",
          "text": [
            "  adding: content/meshroomTMP/DepthMapFilter/ (stored 0%)\n",
            "  adding: content/meshroomTMP/DepthMapFilter/ef3081bc611200b726a34116617000cf2e987527/ (stored 0%)\n",
            "  adding: content/meshroomTMP/DepthMapFilter/ef3081bc611200b726a34116617000cf2e987527/1567242022_nmodMap.png (deflated 1%)\n",
            "  adding: content/meshroomTMP/DepthMapFilter/ef3081bc611200b726a34116617000cf2e987527/227482968_nmodMap.png (deflated 0%)\n",
            "  adding: content/meshroomTMP/DepthMapFilter/ef3081bc611200b726a34116617000cf2e987527/845238032_nmodMap.png (deflated 1%)\n",
            "  adding: content/meshroomTMP/DepthMapFilter/ef3081bc611200b726a34116617000cf2e987527/1100696694_depthMap.exr (deflated 6%)\n",
            "  adding: content/meshroomTMP/DepthMapFilter/ef3081bc611200b726a34116617000cf2e987527/0.log (deflated 59%)\n",
            "  adding: content/meshroomTMP/DepthMapFilter/ef3081bc611200b726a34116617000cf2e987527/1271481560_nmodMap.png (deflated 0%)\n",
            "  adding: content/meshroomTMP/DepthMapFilter/ef3081bc611200b726a34116617000cf2e987527/1567242022_simMap.exr (deflated 8%)\n",
            "  adding: content/meshroomTMP/DepthMapFilter/ef3081bc611200b726a34116617000cf2e987527/845238032_simMap.exr (deflated 8%)\n",
            "  adding: content/meshroomTMP/DepthMapFilter/ef3081bc611200b726a34116617000cf2e987527/845238032_depthMap.exr (deflated 7%)\n",
            "  adding: content/meshroomTMP/DepthMapFilter/ef3081bc611200b726a34116617000cf2e987527/1707849816_nmodMap.png (deflated 0%)\n",
            "  adding: content/meshroomTMP/DepthMapFilter/ef3081bc611200b726a34116617000cf2e987527/326098072_simMap.exr (deflated 8%)\n",
            "  adding: content/meshroomTMP/DepthMapFilter/ef3081bc611200b726a34116617000cf2e987527/1707849816_simMap.exr (deflated 9%)\n",
            "  adding: content/meshroomTMP/DepthMapFilter/ef3081bc611200b726a34116617000cf2e987527/80244268_simMap.exr (deflated 8%)\n",
            "  adding: content/meshroomTMP/DepthMapFilter/ef3081bc611200b726a34116617000cf2e987527/0.status (deflated 48%)\n",
            "  adding: content/meshroomTMP/DepthMapFilter/ef3081bc611200b726a34116617000cf2e987527/1271481560_simMap.exr (deflated 8%)\n",
            "  adding: content/meshroomTMP/DepthMapFilter/ef3081bc611200b726a34116617000cf2e987527/1567242022_depthMap.exr (deflated 7%)\n",
            "  adding: content/meshroomTMP/DepthMapFilter/ef3081bc611200b726a34116617000cf2e987527/326098072_nmodMap.png (deflated 0%)\n",
            "  adding: content/meshroomTMP/DepthMapFilter/ef3081bc611200b726a34116617000cf2e987527/1967770794_depthMap.exr (deflated 6%)\n",
            "  adding: content/meshroomTMP/DepthMapFilter/ef3081bc611200b726a34116617000cf2e987527/1100696694_simMap.exr (deflated 8%)\n",
            "  adding: content/meshroomTMP/DepthMapFilter/ef3081bc611200b726a34116617000cf2e987527/326098072_depthMap.exr (deflated 6%)\n",
            "  adding: content/meshroomTMP/DepthMapFilter/ef3081bc611200b726a34116617000cf2e987527/227482968_depthMap.exr (deflated 7%)\n",
            "  adding: content/meshroomTMP/DepthMapFilter/ef3081bc611200b726a34116617000cf2e987527/80244268_depthMap.exr (deflated 6%)\n",
            "  adding: content/meshroomTMP/DepthMapFilter/ef3081bc611200b726a34116617000cf2e987527/1967770794_nmodMap.png (deflated 0%)\n",
            "  adding: content/meshroomTMP/DepthMapFilter/ef3081bc611200b726a34116617000cf2e987527/1707849816_depthMap.exr (deflated 7%)\n",
            "  adding: content/meshroomTMP/DepthMapFilter/ef3081bc611200b726a34116617000cf2e987527/227482968_simMap.exr (deflated 9%)\n",
            "  adding: content/meshroomTMP/DepthMapFilter/ef3081bc611200b726a34116617000cf2e987527/1967770794_simMap.exr (deflated 8%)\n",
            "  adding: content/meshroomTMP/DepthMapFilter/ef3081bc611200b726a34116617000cf2e987527/1271481560_depthMap.exr (deflated 7%)\n",
            "  adding: content/meshroomTMP/DepthMapFilter/ef3081bc611200b726a34116617000cf2e987527/0.statistics (deflated 86%)\n",
            "  adding: content/meshroomTMP/DepthMapFilter/ef3081bc611200b726a34116617000cf2e987527/1100696694_nmodMap.png (deflated 0%)\n",
            "  adding: content/meshroomTMP/DepthMapFilter/ef3081bc611200b726a34116617000cf2e987527/80244268_nmodMap.png (deflated 0%)\n"
          ]
        },
        {
          "output_type": "display_data",
          "data": {
            "text/plain": [
              "<IPython.core.display.Javascript object>"
            ],
            "application/javascript": [
              "\n",
              "    async function download(id, filename, size) {\n",
              "      if (!google.colab.kernel.accessAllowed) {\n",
              "        return;\n",
              "      }\n",
              "      const div = document.createElement('div');\n",
              "      const label = document.createElement('label');\n",
              "      label.textContent = `Downloading \"${filename}\": `;\n",
              "      div.appendChild(label);\n",
              "      const progress = document.createElement('progress');\n",
              "      progress.max = size;\n",
              "      div.appendChild(progress);\n",
              "      document.body.appendChild(div);\n",
              "\n",
              "      const buffers = [];\n",
              "      let downloaded = 0;\n",
              "\n",
              "      const channel = await google.colab.kernel.comms.open(id);\n",
              "      // Send a message to notify the kernel that we're ready.\n",
              "      channel.send({})\n",
              "\n",
              "      for await (const message of channel.messages) {\n",
              "        // Send a message to notify the kernel that we're ready.\n",
              "        channel.send({})\n",
              "        if (message.buffers) {\n",
              "          for (const buffer of message.buffers) {\n",
              "            buffers.push(buffer);\n",
              "            downloaded += buffer.byteLength;\n",
              "            progress.value = downloaded;\n",
              "          }\n",
              "        }\n",
              "      }\n",
              "      const blob = new Blob(buffers, {type: 'application/binary'});\n",
              "      const a = document.createElement('a');\n",
              "      a.href = window.URL.createObjectURL(blob);\n",
              "      a.download = filename;\n",
              "      div.appendChild(a);\n",
              "      a.click();\n",
              "      div.remove();\n",
              "    }\n",
              "  "
            ]
          },
          "metadata": {}
        },
        {
          "output_type": "display_data",
          "data": {
            "text/plain": [
              "<IPython.core.display.Javascript object>"
            ],
            "application/javascript": [
              "download(\"download_cb06b3ac-5e9a-491c-b2c3-9afcbe4057d6\", \"outCacheDepthMapFilter.zip\", 63337390)"
            ]
          },
          "metadata": {}
        }
      ]
    },
    {
      "cell_type": "code",
      "source": [
        "!/content/meshroom/Meshroom-2021.1.0-av2.4.0-centos7-cuda10.2/meshroom_batch --toNode DepthMapFilter_1 --input /content/input/ --pipeline /content/standardpipeline.mg --cache /content/meshroomTMP/\n",
        "\n",
        "!zip -r outCacheDepthMapFilter.zip /content/meshroomTMP/DepthMapFilter/\n",
        "\n",
        "files.download('outCacheDepthMapFilter.zip')"
      ],
      "metadata": {
        "id": "FP9h-6-O9kHf"
      },
      "execution_count": null,
      "outputs": []
    },
    {
      "cell_type": "markdown",
      "source": [
        "**STEP 2.6 - PROCESS - MESHING**"
      ],
      "metadata": {
        "id": "cmAmh-pi9v8z"
      }
    },
    {
      "cell_type": "code",
      "source": [
        "!/content/meshroom/Meshroom-2021.1.0-av2.4.0-centos7-cuda10.2/meshroom_batch --toNode Meshing_1 --input /content/input/ --pipeline /content/standardpipeline.mg --cache /content/meshroomTMP/\n",
        "\n",
        "!zip -r outCacheMeshing.zip /content/meshroomTMP/Meshing/\n",
        "\n",
        "files.download('outCacheMeshing.zip')"
      ],
      "metadata": {
        "id": "B3803jmX9v80"
      },
      "execution_count": null,
      "outputs": []
    },
    {
      "cell_type": "markdown",
      "source": [
        "**STEP 2.7 - PROCESS - TEXTURING**"
      ],
      "metadata": {
        "id": "udkYgZTz95Z7"
      }
    },
    {
      "cell_type": "code",
      "source": [
        "!/content/meshroom/Meshroom-2021.1.0-av2.4.0-centos7-cuda10.2/meshroom_batch --toNode Texturing_1 --input /content/input/ --pipeline /content/standardpipeline.mg --cache /content/meshroomTMP/\n",
        "\n",
        "!zip -r outCacheTexturing.zip /content/meshroomTMP/Texturing/\n",
        "\n",
        "files.download('outCacheTexturing.zip')"
      ],
      "metadata": {
        "colab": {
          "base_uri": "https://localhost:8080/",
          "height": 661
        },
        "id": "_5UKn7yZ95Z7",
        "outputId": "603cbf6f-26f5-4666-963b-aa9fe5701b9d"
      },
      "execution_count": null,
      "outputs": [
        {
          "output_type": "stream",
          "name": "stdout",
          "text": [
            "Program called with the following parameters:\n",
            " * allowSingleView = 1\n",
            " * allowedCameraModels = \"pinhole,radial1,radial3,brown,fisheye4,fisheye1\"\n",
            " * defaultCameraModel = \"\" (default)\n",
            " * defaultFieldOfView = 45\n",
            " * defaultFocalLengthPix = -1 (default)\n",
            " * defaultIntrinsic = \"\" (default)\n",
            " * groupCameraFallback =  Unknown Type \"20EGroupCameraFallback\"\n",
            " * imageFolder = \"\" (default)\n",
            " * input = \"/tmp/tmpg7qk0b5x/CameraInit/f9436e97e444fa71a05aa5cf7639b206df8ba282//viewpoints.sfm\"\n",
            " * output = \"/tmp/tmpg7qk0b5x/CameraInit/f9436e97e444fa71a05aa5cf7639b206df8ba282/cameraInit.sfm\"\n",
            " * sensorDatabase = \"/content/meshroom/Meshroom-2021.1.0-av2.4.0-centos7-cuda10.2/aliceVision/share/aliceVision/cameraSensors.db\"\n",
            " * useInternalWhiteBalance = 1\n",
            " * verboseLevel = \"info\"\n",
            " * viewIdMethod =  Unknown Type \"N11aliceVision9sfmDataIO13EViewIdMethodE\"\n",
            " * viewIdRegex = \".*?(\\d+)\" (default)\n",
            "\n",
            "[22:31:18.959785][info] CameraInit report:\n",
            "\t- # views listed: 9\n",
            "\t   - # views with an initialized intrinsic listed: 9\n",
            "\t   - # views without metadata (with a default intrinsic): 0\n",
            "\t- # intrinsics listed: 1\n",
            "No output set, results will be available in the cache folder: \"/content/meshroomTMP/\"\n",
            " - commandLine: aliceVision_meshFiltering  --inputMesh \"/content/meshroomTMP/Meshing/da0cd7d0520371e3b02653c06063524c4f7d0083/mesh.obj\" --keepLargestMeshOnly False --smoothingSubset all --smoothingBoundariesNeighbours 0 --smoothingIterations 5 --smoothingLambda 1.0 --filteringSubset all --filteringIterations 1 --filterLargeTrianglesFactor 60.0 --filterTrianglesRatio 0.0 --verboseLevel info --outputMesh \"/content/meshroomTMP/MeshFiltering/05cfd2b9dbfe18948a3a8d971712eda694dd3b3a/mesh.obj\"\n",
            " - logFile: /content/meshroomTMP//MeshFiltering/05cfd2b9dbfe18948a3a8d971712eda694dd3b3a/log\n",
            " - commandLine: aliceVision_texturing  --input \"/content/meshroomTMP/Meshing/da0cd7d0520371e3b02653c06063524c4f7d0083/densePointCloud.abc\" --imagesFolder \"/content/meshroomTMP/PrepareDenseScene/17bb553770a589d8d679c3f3940b525d0312735c\" --inputMesh \"/content/meshroomTMP/MeshFiltering/05cfd2b9dbfe18948a3a8d971712eda694dd3b3a/mesh.obj\" --textureSide 8192 --downscale 2 --outputTextureFileType png --unwrapMethod Basic --useUDIM True --fillHoles False --padding 5 --multiBandDownscale 4 --multiBandNbContrib 1 5 10 0 --useScore True --bestScoreThreshold 0.1 --angleHardThreshold 90.0 --processColorspace sRGB --correctEV False --forceVisibleByAllVertices False --flipNormals False --visibilityRemappingMethod PullPush --subdivisionTargetRatio 0.8 --verboseLevel info --output \"/content/meshroomTMP/Texturing/9bf0b79087cf381c1cbcd016c9c0867c004bb2f4\"\n",
            " - logFile: /content/meshroomTMP//Texturing/9bf0b79087cf381c1cbcd016c9c0867c004bb2f4/log\n",
            "  adding: content/meshroomTMP/Texturing/ (stored 0%)\n",
            "  adding: content/meshroomTMP/Texturing/9bf0b79087cf381c1cbcd016c9c0867c004bb2f4/ (stored 0%)\n",
            "  adding: content/meshroomTMP/Texturing/9bf0b79087cf381c1cbcd016c9c0867c004bb2f4/statistics (deflated 85%)\n",
            "  adding: content/meshroomTMP/Texturing/9bf0b79087cf381c1cbcd016c9c0867c004bb2f4/log (deflated 68%)\n",
            "  adding: content/meshroomTMP/Texturing/9bf0b79087cf381c1cbcd016c9c0867c004bb2f4/status (deflated 46%)\n",
            "  adding: content/meshroomTMP/Texturing/9bf0b79087cf381c1cbcd016c9c0867c004bb2f4/texturedMesh.obj (deflated 69%)\n",
            "  adding: content/meshroomTMP/Texturing/9bf0b79087cf381c1cbcd016c9c0867c004bb2f4/texturedMesh.mtl (deflated 29%)\n",
            "  adding: content/meshroomTMP/Texturing/9bf0b79087cf381c1cbcd016c9c0867c004bb2f4/texture_1001.png (deflated 2%)\n"
          ]
        },
        {
          "output_type": "display_data",
          "data": {
            "text/plain": [
              "<IPython.core.display.Javascript object>"
            ],
            "application/javascript": [
              "\n",
              "    async function download(id, filename, size) {\n",
              "      if (!google.colab.kernel.accessAllowed) {\n",
              "        return;\n",
              "      }\n",
              "      const div = document.createElement('div');\n",
              "      const label = document.createElement('label');\n",
              "      label.textContent = `Downloading \"${filename}\": `;\n",
              "      div.appendChild(label);\n",
              "      const progress = document.createElement('progress');\n",
              "      progress.max = size;\n",
              "      div.appendChild(progress);\n",
              "      document.body.appendChild(div);\n",
              "\n",
              "      const buffers = [];\n",
              "      let downloaded = 0;\n",
              "\n",
              "      const channel = await google.colab.kernel.comms.open(id);\n",
              "      // Send a message to notify the kernel that we're ready.\n",
              "      channel.send({})\n",
              "\n",
              "      for await (const message of channel.messages) {\n",
              "        // Send a message to notify the kernel that we're ready.\n",
              "        channel.send({})\n",
              "        if (message.buffers) {\n",
              "          for (const buffer of message.buffers) {\n",
              "            buffers.push(buffer);\n",
              "            downloaded += buffer.byteLength;\n",
              "            progress.value = downloaded;\n",
              "          }\n",
              "        }\n",
              "      }\n",
              "      const blob = new Blob(buffers, {type: 'application/binary'});\n",
              "      const a = document.createElement('a');\n",
              "      a.href = window.URL.createObjectURL(blob);\n",
              "      a.download = filename;\n",
              "      div.appendChild(a);\n",
              "      a.click();\n",
              "      div.remove();\n",
              "    }\n",
              "  "
            ]
          },
          "metadata": {}
        },
        {
          "output_type": "display_data",
          "data": {
            "text/plain": [
              "<IPython.core.display.Javascript object>"
            ],
            "application/javascript": [
              "download(\"download_e73c1233-3ae9-43d2-8e86-2cde1677ed4d\", \"outCacheTexturing.zip\", 8187928)"
            ]
          },
          "metadata": {}
        }
      ]
    }
  ],
  "metadata": {
    "accelerator": "GPU",
    "colab": {
      "provenance": []
    },
    "gpuClass": "standard",
    "kernelspec": {
      "display_name": "Python 3",
      "name": "python3"
    }
  },
  "nbformat": 4,
  "nbformat_minor": 0
}